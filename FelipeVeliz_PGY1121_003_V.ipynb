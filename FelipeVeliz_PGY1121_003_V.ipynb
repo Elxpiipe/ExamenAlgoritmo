{
  "nbformat": 4,
  "nbformat_minor": 0,
  "metadata": {
    "colab": {
      "provenance": []
    },
    "kernelspec": {
      "name": "python3",
      "display_name": "Python 3"
    },
    "language_info": {
      "name": "python"
    }
  },
  "cells": [
    {
      "cell_type": "code",
      "execution_count": 3,
      "metadata": {
        "id": "13BvjHl8OY-L"
      },
      "outputs": [],
      "source": [
        "import numpy as np\n",
        "from datetime import datetime\n",
        "now = datetime.now()\n",
        "platinium = 120000\n",
        "gold = 80000\n",
        "silver = 50000\n",
        "posicion_array = 0\n",
        "arreglo = np.empty((0,2),dtype = object)\n",
        "cantidad = 0\n",
        "listarut = []\n",
        "contadorplat = 0\n",
        "contadorgold = 0\n",
        "contadorsilver = 0\n",
        "total1 = 0\n",
        "total2 = 0\n",
        "total3 = 0"
      ]
    },
    {
      "cell_type": "code",
      "source": [
        "matriz_ubi = np.arange(1, 10*10+1).reshape(10, 10).astype(str)"
      ],
      "metadata": {
        "id": "C_LpJPZQP1qj"
      },
      "execution_count": 4,
      "outputs": []
    },
    {
      "cell_type": "code",
      "source": [
        "# comprar entradas\n",
        "def comprar_entradas():\n",
        "  global posicion_array, arreglo,listarut\n",
        "  cantidad = int(input(\"Ingrese cuantas entradas desea comprar (Debe ser entre 1 a 3): \"))\n",
        "  while cantidad < 1 or cantidad > 3:\n",
        "    print(\"Cantidad inválida. Intente nuevamente por favor.\")\n",
        "    cantidad = int(input(\"Ingrese cuantas entradas desea comprar (Debe ser entre 1 a 3): \"))\n",
        "  mostrar_ubicaciones()\n",
        "  for _ in range(cantidad):\n",
        "    ubicacion = str(input(\"Ingrese la ubicación de asiento que desea, según la imagen referencial: \"))\n",
        "    if ubicacion in matriz_ubi:\n",
        "      for i in range (matriz_ubi.shape[0]): #filas\n",
        "        for n in range (matriz_ubi.shape[1]): #columnas\n",
        "          if matriz_ubi[i,n] == ubicacion:\n",
        "            matriz_ubi[i,n] = 'x'\n",
        "            print(matriz_ubi)\n",
        "            rut = int(input('Ingrese el rut asociado a la entrada: (Ej. 18977222 sin Dato verificador y puntos.)'))\n",
        "            largo_rut = len(str(rut))\n",
        "            if largo_rut == 8:\n",
        "              listarut.append(rut)\n",
        "              ubicacionf = int(ubicacion)\n",
        "              fila = np.array([[rut, ubicacionf]], dtype = object)\n",
        "              arreglo = np.append(arreglo,fila,axis = 0)\n",
        "              posicion_array += 1\n",
        "              print('La entrada ha sido ingresada de forma correcta')\n",
        "            else:\n",
        "             print('el rut debe tener 8 digitos.')\n",
        "    else:\n",
        "      print('asiento ocupado, ingrese una ubicacion disponile')"
      ],
      "metadata": {
        "id": "K_Xml3HrsjLa"
      },
      "execution_count": 5,
      "outputs": []
    },
    {
      "cell_type": "code",
      "source": [
        "# 2.-mostrar ubicaciones\n",
        "def mostrar_ubicaciones():\n",
        "    print(\"\\n Venta de entradas al concierto VIP de Michael Jam:\\n\")\n",
        "    print(\"|¯¯¯¯¯¯¯¯¯¯¯¯¯¯¯¯¯¯¯¯¯¯¯¯¯¯¯¯¯¯¯¯¯¯¯¯¯¯¯¯¯¯¯¯¯¯¯¯¯¯¯¯|\")\n",
        "    print(\"****************ESCENARIO****************\\n\")\n",
        "    print(matriz_ubi)"
      ],
      "metadata": {
        "id": "OD0x7J_VP1g0"
      },
      "execution_count": 6,
      "outputs": []
    },
    {
      "cell_type": "code",
      "source": [
        "# 3.- Ver listado\n",
        "def ver_listado():\n",
        "  global listarut\n",
        "  lista_ordenada = np.sort(listarut)\n",
        "  for i in lista_ordenada:\n",
        "    print(i)"
      ],
      "metadata": {
        "id": "oiFlUWHkRMgP"
      },
      "execution_count": 7,
      "outputs": []
    },
    {
      "cell_type": "code",
      "source": [
        "# 4.- mostrar ganancias\n",
        "def mostrar_ganancias():\n",
        "  global contadorplat, contadorgold,contadorsilver,total1,total2,total3\n",
        "  for i in range(posicion_array):\n",
        "    if arreglo[i,1] > 1 or arreglo[i,1] <= 20:\n",
        "      contadorplat += 1\n",
        "      total1 += platinium\n",
        "    elif arreglo[i,1] > 20 or arreglo[i,1] <= 50:\n",
        "      contadorgold += 1\n",
        "      total2 += gold\n",
        "    elif arreglo[i,1] > 50 or arreglo[i,1] <= 100:\n",
        "      contadorsilver += 1\n",
        "      total3 += silver\n",
        "    else:\n",
        "      print('Aun no hay compras.')\n",
        "  print(f'Tipo de entrada | Cantidad | Total')\n",
        "  print(f'Platiniun | {contadorplat} | {total1}')\n",
        "  print(f'Gold | {contadorgold} | {total2}')\n",
        "  print(f'Silver | {contadorsilver} | {total3}')"
      ],
      "metadata": {
        "id": "RrOOnzL6RMxX"
      },
      "execution_count": 8,
      "outputs": []
    },
    {
      "cell_type": "code",
      "source": [
        "# 5.- opcion salir\n",
        "def salir():\n",
        "  print(50 * '*')\n",
        "  print('A seleccionado salir del sistema.')\n",
        "  print('Gracias por comprar en Creativos.cl')\n",
        "  print('Felipe Véliz Cid')\n",
        "  print(now.date())\n",
        "  print(50 * '*')"
      ],
      "metadata": {
        "id": "TFNagwrhRM-v"
      },
      "execution_count": 9,
      "outputs": []
    },
    {
      "cell_type": "code",
      "source": [
        "#menu\n",
        "def menu():\n",
        "  while True:\n",
        "    print(60 * '*')\n",
        "    print('***** Venta de entradas al concierto VIP de Michael Jam*****')\n",
        "    print('1.- Comprar entradas. ')\n",
        "    print('2.- Mostrar ubicaciones. ')\n",
        "    print('3.- Ver listado asistentes. ')\n",
        "    print('4.- Mostrar ganancias. ')\n",
        "    print('5.- Salir. ')\n",
        "    print(60 * '*')\n",
        "    try:\n",
        "        opcion = int(input(' Ingrese la opción que desea: '))\n",
        "        if opcion == 1:\n",
        "          comprar_entradas()\n",
        "        elif opcion == 2:\n",
        "          mostrar_ubicaciones()\n",
        "        elif opcion == 3:\n",
        "          ver_listado()\n",
        "        elif opcion == 4:\n",
        "          mostrar_ganancias()\n",
        "        elif opcion == 5:\n",
        "          salir()\n",
        "          break\n",
        "        else:\n",
        "          print('* Opción invalida, ingrese un numero entre 1 y 5 como indica en pantalla. *')\n",
        "          print(40 * '-')\n",
        "    except ValueError:\n",
        "        print('* Opción invalida, ingrese un numero entre 1 y 5 como indica en pantalla. *')"
      ],
      "metadata": {
        "id": "CCIRI7__ROQm"
      },
      "execution_count": 10,
      "outputs": []
    },
    {
      "cell_type": "code",
      "source": [
        "try:\n",
        "  menu()\n",
        "except KeyboardInterrupt:\n",
        "  print('Programa parado de forma manual.')"
      ],
      "metadata": {
        "id": "w4A3E0lGRrNp"
      },
      "execution_count": null,
      "outputs": []
    }
  ]
}